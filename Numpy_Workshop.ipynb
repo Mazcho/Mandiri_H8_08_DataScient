{
 "cells": [
  {
   "cell_type": "code",
   "execution_count": 6,
   "id": "8a01ebfc",
   "metadata": {},
   "outputs": [
    {
     "data": {
      "text/plain": [
       "'1.21.5'"
      ]
     },
     "execution_count": 6,
     "metadata": {},
     "output_type": "execute_result"
    }
   ],
   "source": [
    "import numpy as np\n",
    "np.__version__"
   ]
  },
  {
   "cell_type": "markdown",
   "id": "f9e30b06",
   "metadata": {},
   "source": [
    "## Numpy"
   ]
  },
  {
   "cell_type": "code",
   "execution_count": 7,
   "id": "0d5a9e39",
   "metadata": {},
   "outputs": [
    {
     "name": "stdout",
     "output_type": "stream",
     "text": [
      "[4.0, 3.0, 3.5]\n"
     ]
    }
   ],
   "source": [
    "# notasi  []\n",
    "gpas_as_list = [4.0,3.0,3.5]\n",
    "print(gpas_as_list)"
   ]
  },
  {
   "cell_type": "code",
   "execution_count": 8,
   "id": "58384ddf",
   "metadata": {},
   "outputs": [
    {
     "name": "stdout",
     "output_type": "stream",
     "text": [
      "[4.0, 3.0, 3.5, 4.0]\n"
     ]
    }
   ],
   "source": [
    "gpas_as_list.append(4.0) #ditambah di ashkir list\n",
    "print(gpas_as_list)"
   ]
  },
  {
   "cell_type": "code",
   "execution_count": 9,
   "id": "18e6bee2",
   "metadata": {},
   "outputs": [
    {
     "data": {
      "text/plain": [
       "[4.0, 'NULL', 3.0, 3.5, 4.0]"
      ]
     },
     "execution_count": 9,
     "metadata": {},
     "output_type": "execute_result"
    }
   ],
   "source": [
    "gpas_as_list.insert(1,\"NULL\") #bisa kita taruh dimana kita mau ( letak, isi)\n",
    "gpas_as_list"
   ]
  },
  {
   "cell_type": "code",
   "execution_count": 10,
   "id": "e5b52b54",
   "metadata": {},
   "outputs": [
    {
     "data": {
      "text/plain": [
       "[4.0, 3.0, 3.5, 4.0]"
      ]
     },
     "execution_count": 10,
     "metadata": {},
     "output_type": "execute_result"
    }
   ],
   "source": [
    "gpas_as_list.pop(1) #pop itu akan menghaous list yan gkita pilih\n",
    "gpas_as_list"
   ]
  },
  {
   "cell_type": "markdown",
   "id": "d324d52d",
   "metadata": {},
   "source": [
    "## Numpy Array "
   ]
  },
  {
   "cell_type": "code",
   "execution_count": 11,
   "id": "9a9acacd",
   "metadata": {},
   "outputs": [
    {
     "data": {
      "text/plain": [
       "array([4. , 3. , 3.5, 4. ])"
      ]
     },
     "execution_count": 11,
     "metadata": {},
     "output_type": "execute_result"
    }
   ],
   "source": [
    "gpas = np.array(gpas_as_list) # conver list ke array\n",
    "gpas.dtype\n",
    "gpas"
   ]
  },
  {
   "cell_type": "code",
   "execution_count": 12,
   "id": "6da06bfa",
   "metadata": {},
   "outputs": [
    {
     "data": {
      "text/plain": [
       "4"
      ]
     },
     "execution_count": 12,
     "metadata": {},
     "output_type": "execute_result"
    }
   ],
   "source": [
    "gpas.size #jumlah data"
   ]
  },
  {
   "cell_type": "code",
   "execution_count": 13,
   "id": "8f5e3a9b",
   "metadata": {},
   "outputs": [
    {
     "data": {
      "text/plain": [
       "(4,)"
      ]
     },
     "execution_count": 13,
     "metadata": {},
     "output_type": "execute_result"
    }
   ],
   "source": [
    "gpas.shape"
   ]
  },
  {
   "cell_type": "markdown",
   "id": "c79ad2c0",
   "metadata": {},
   "source": [
    "## Demo aplikasi : Studi Log"
   ]
  },
  {
   "cell_type": "code",
   "execution_count": 14,
   "id": "b44a9c4e",
   "metadata": {},
   "outputs": [
    {
     "data": {
      "text/plain": [
       "array([0, 0, 0, 0, 0, 0, 0, 0, 0, 0, 0, 0, 0, 0, 0, 0, 0, 0, 0, 0, 0, 0,\n",
       "       0, 0, 0, 0, 0, 0, 0, 0, 0, 0, 0, 0, 0, 0, 0, 0, 0, 0, 0, 0, 0, 0,\n",
       "       0, 0, 0, 0, 0, 0, 0, 0, 0, 0, 0, 0, 0, 0, 0, 0, 0, 0, 0, 0, 0, 0,\n",
       "       0, 0, 0, 0, 0, 0, 0, 0, 0, 0, 0, 0, 0, 0, 0, 0, 0, 0, 0, 0, 0, 0,\n",
       "       0, 0, 0, 0, 0, 0, 0, 0, 0, 0, 0, 0], dtype=uint16)"
      ]
     },
     "execution_count": 14,
     "metadata": {},
     "output_type": "execute_result"
    }
   ],
   "source": [
    "#studi log\n",
    "study_minute = np.zeros(100, np.uint16) #jumlah,type data\n",
    "study_minute\n"
   ]
  },
  {
   "cell_type": "code",
   "execution_count": 15,
   "id": "519d480b",
   "metadata": {},
   "outputs": [
    {
     "name": "stdout",
     "output_type": "stream",
     "text": [
      "Variable             Type                          Data/Info\n",
      "------------------------------------------------------------\n",
      "NamespaceMagics      MetaHasTraits                 <class 'IPython.core.magi<...>mespace.NamespaceMagics'>\n",
      "autopep8             module                        <module 'autopep8' from '<...>e-packages\\\\autopep8.py'>\n",
      "get_ipython          function                      <function get_ipython at 0x00000155AB3511F0>\n",
      "getsizeof            builtin_function_or_method    <built-in function getsizeof>\n",
      "gpas                 ndarray                       4: 4 elems, type `float64`, 32 bytes\n",
      "gpas_as_list         list                          n=4\n",
      "json                 module                        <module 'json' from 'C:\\\\<...>\\lib\\\\json\\\\__init__.py'>\n",
      "np                   module                        <module 'numpy' from 'C:\\<...>ges\\\\numpy\\\\__init__.py'>\n",
      "practice_list        list                          n=3\n",
      "practice_list_copy   list                          n=3\n",
      "study_minute         ndarray                       100: 100 elems, type `uint16`, 200 bytes\n",
      "var_dic_list         function                      <function var_dic_list at 0x00000155AED27B80>\n"
     ]
    }
   ],
   "source": [
    "#statistik variabel yg sudah ada\n",
    "%whos"
   ]
  },
  {
   "cell_type": "markdown",
   "id": "482b13dd",
   "metadata": {},
   "source": [
    "## Demo multi dimensi array"
   ]
  },
  {
   "cell_type": "code",
   "execution_count": 16,
   "id": "59117eae",
   "metadata": {},
   "outputs": [
    {
     "data": {
      "text/plain": [
       "array([[4.  , 3.3 , 3.5 , 4.  ],\n",
       "       [3.96, 3.92, 4.  , 4.  ],\n",
       "       [3.2 , 3.8 , 4.  , 4.  ]], dtype=float16)"
      ]
     },
     "execution_count": 16,
     "metadata": {},
     "output_type": "execute_result"
    }
   ],
   "source": [
    "students_gpas = np.array ([\n",
    "    [4.0,3.3,3.5,4.0],\n",
    "    [3.96,3.92,4.0,4.0],\n",
    "    [3.2,3.8,4.0,4.0]\n",
    "    \n",
    "], np.float16)\n",
    "\n",
    "students_gpas"
   ]
  },
  {
   "cell_type": "code",
   "execution_count": 17,
   "id": "4281e73c",
   "metadata": {},
   "outputs": [
    {
     "data": {
      "text/plain": [
       "2"
      ]
     },
     "execution_count": 17,
     "metadata": {},
     "output_type": "execute_result"
    }
   ],
   "source": [
    "students_gpas.ndim #number of fimensi"
   ]
  },
  {
   "cell_type": "code",
   "execution_count": 18,
   "id": "87135a6a",
   "metadata": {},
   "outputs": [
    {
     "data": {
      "text/plain": [
       "(3, 4)"
      ]
     },
     "execution_count": 18,
     "metadata": {},
     "output_type": "execute_result"
    }
   ],
   "source": [
    "students_gpas.shape # 3 kolom/array, 4 baris/element"
   ]
  },
  {
   "cell_type": "code",
   "execution_count": 19,
   "id": "fc535f84",
   "metadata": {},
   "outputs": [
    {
     "data": {
      "text/plain": [
       "array([3.2, 3.8, 4. , 4. ], dtype=float16)"
      ]
     },
     "execution_count": 19,
     "metadata": {},
     "output_type": "execute_result"
    }
   ],
   "source": [
    "students_gpas[2] # mengambil isi data array"
   ]
  },
  {
   "cell_type": "code",
   "execution_count": 20,
   "id": "62f239f4",
   "metadata": {},
   "outputs": [
    {
     "data": {
      "text/plain": [
       "4.0"
      ]
     },
     "execution_count": 20,
     "metadata": {},
     "output_type": "execute_result"
    }
   ],
   "source": [
    "students_gpas[2][3]"
   ]
  },
  {
   "cell_type": "markdown",
   "id": "d84d9817",
   "metadata": {},
   "source": [
    "## Array Indexing : study log indexing"
   ]
  },
  {
   "cell_type": "code",
   "execution_count": 21,
   "id": "fad0e6c9",
   "metadata": {},
   "outputs": [
    {
     "data": {
      "text/plain": [
       "array([0, 0, 0, 0, 0, 0, 0, 0, 0, 0, 0, 0, 0, 0, 0, 0, 0, 0, 0, 0, 0, 0,\n",
       "       0, 0, 0, 0, 0, 0, 0, 0, 0, 0, 0, 0, 0, 0, 0, 0, 0, 0, 0, 0, 0, 0,\n",
       "       0, 0, 0, 0, 0, 0, 0, 0, 0, 0, 0, 0, 0, 0, 0, 0, 0, 0, 0, 0, 0, 0,\n",
       "       0, 0, 0, 0, 0, 0, 0, 0, 0, 0, 0, 0, 0, 0, 0, 0, 0, 0, 0, 0, 0, 0,\n",
       "       0, 0, 0, 0, 0, 0, 0, 0, 0, 0, 0, 0], dtype=uint16)"
      ]
     },
     "execution_count": 21,
     "metadata": {},
     "output_type": "execute_result"
    }
   ],
   "source": [
    "study_minute # 1 dimensi"
   ]
  },
  {
   "cell_type": "code",
   "execution_count": 40,
   "id": "24684614",
   "metadata": {},
   "outputs": [
    {
     "name": "stderr",
     "output_type": "stream",
     "text": [
      "C:\\Users\\ASUS\\AppData\\Local\\Temp\\ipykernel_10536\\2914156011.py:1: VisibleDeprecationWarning: Creating an ndarray from ragged nested sequences (which is a list-or-tuple of lists-or-tuples-or ndarrays with different lengths or shapes) is deprecated. If you meant to do this, you must specify 'dtype=object' when creating the ndarray.\n",
      "  study_minute = np.array([\n"
     ]
    },
    {
     "data": {
      "text/plain": [
       "(2,)"
      ]
     },
     "execution_count": 40,
     "metadata": {},
     "output_type": "execute_result"
    }
   ],
   "source": [
    "study_minutes = np.array([\n",
    "    study_minutes,\n",
    "    np.zeros(100, np.int16)\n",
    "])\n",
    "study_minutes.shape"
   ]
  },
  {
   "cell_type": "code",
   "execution_count": null,
   "id": "117e9ed9",
   "metadata": {},
   "outputs": [],
   "source": [
    "study_minutes[1][0] = 60\n",
    "study_minutes"
   ]
  },
  {
   "cell_type": "code",
   "execution_count": null,
   "id": "7cfd052f",
   "metadata": {},
   "outputs": [],
   "source": [
    "rand = np.random.RandomState(42)\n",
    "fake_log = rand.randint(30,180,size = 100, dtype = np.int16) #random number, (start,end, size data yang ingin diisi, dtype)\n",
    "print(fake_log)"
   ]
  },
  {
   "cell_type": "code",
   "execution_count": null,
   "id": "dbe58886",
   "metadata": {},
   "outputs": [],
   "source": [
    "[fake_log[1],fake_log[21]] #jadi list"
   ]
  },
  {
   "cell_type": "code",
   "execution_count": null,
   "id": "82f76c72",
   "metadata": {},
   "outputs": [],
   "source": [
    "fake_log[[1, 21]] # jadi array"
   ]
  },
  {
   "cell_type": "code",
   "execution_count": null,
   "id": "eab2d60a",
   "metadata": {},
   "outputs": [],
   "source": [
    "index = np.array ([\n",
    "    [1,21],\n",
    "    [1,2]\n",
    "])\n",
    "\n",
    "fake_log(index)"
   ]
  },
  {
   "cell_type": "code",
   "execution_count": null,
   "id": "fa347fbe",
   "metadata": {},
   "outputs": [],
   "source": [
    "study_minutes = np.append(study_minutes,[fake_log])\n",
    "print(study_minutes)"
   ]
  },
  {
   "cell_type": "markdown",
   "id": "00edd82e",
   "metadata": {},
   "source": [
    "## Slicing Array "
   ]
  },
  {
   "cell_type": "code",
   "execution_count": null,
   "id": "d72ac437",
   "metadata": {},
   "outputs": [],
   "source": [
    "practice = np.arange(42) # 0 - 41 urutan 0 - 41\n",
    "practice.shape = (7,6) #terdiri dari 7 kolom/array dan 6 baris/item\n",
    "practice#mencetak"
   ]
  },
  {
   "cell_type": "code",
   "execution_count": null,
   "id": "7918d0f0",
   "metadata": {},
   "outputs": [],
   "source": [
    "practice[2,1] #semua start dari 0 [array, item]"
   ]
  },
  {
   "cell_type": "code",
   "execution_count": null,
   "id": "9205ddba",
   "metadata": {},
   "outputs": [],
   "source": [
    "practice[2:5]"
   ]
  },
  {
   "cell_type": "code",
   "execution_count": null,
   "id": "a442535a",
   "metadata": {},
   "outputs": [],
   "source": [
    "practice[2:5,3] #start array 2 sampai 5, di item ke 3 dari tiap array"
   ]
  },
  {
   "cell_type": "code",
   "execution_count": null,
   "id": "880efe46",
   "metadata": {},
   "outputs": [],
   "source": [
    "practice[2:5, 3:]#start array 2 sampai 5, di item ke 3 dan seterusnya"
   ]
  },
  {
   "cell_type": "markdown",
   "id": "ad86d091",
   "metadata": {},
   "source": [
    "## Copy vs View "
   ]
  },
  {
   "cell_type": "markdown",
   "id": "5cc88701",
   "metadata": {},
   "source": [
    "> Copy = mengopy array\n",
    ". view = menduplikasi tapi masih terpengaruh\n"
   ]
  },
  {
   "cell_type": "code",
   "execution_count": 32,
   "id": "c66559fa",
   "metadata": {},
   "outputs": [
    {
     "data": {
      "text/plain": [
       "([1, 2, 3], [12345, 2, 3])"
      ]
     },
     "execution_count": 32,
     "metadata": {},
     "output_type": "execute_result"
    }
   ],
   "source": [
    "#copy data, data baru di var baru bisa diubah isinya\n",
    "practice_list = [1,2,3]\n",
    "practice_list_copy = practice_list[:]\n",
    "practice_list, practice_list_copy\n",
    "practice_list_copy[0] = 12345\n",
    "practice_list, practice_list_copy"
   ]
  },
  {
   "cell_type": "code",
   "execution_count": 33,
   "id": "b7de98f7",
   "metadata": {},
   "outputs": [
    {
     "data": {
      "text/plain": [
       "array([[ 0,  1,  2,  3,  4,  5],\n",
       "       [ 6,  7,  8,  9, 10, 11],\n",
       "       [12, 13, 14, 15, 16, 17],\n",
       "       [18, 19, 20, 21, 22, 23],\n",
       "       [24, 25, 26, 27, 28, 29],\n",
       "       [30, 31, 32, 33, 34, 35],\n",
       "       [36, 37, 38, 39, 40, 41]])"
      ]
     },
     "execution_count": 33,
     "metadata": {},
     "output_type": "execute_result"
    }
   ],
   "source": [
    "practice = np.arange(42) # 0 - 41 urutan 0 - 41\n",
    "practice.shape = (7,6) #terdiri dari 7 kolom/array dan 6 baris/item\n",
    "practice#mencetak"
   ]
  },
  {
   "cell_type": "code",
   "execution_count": 34,
   "id": "9aa12931",
   "metadata": {},
   "outputs": [
    {
     "data": {
      "text/plain": [
       "(array([[12345,     1,     2,     3,     4,     5],\n",
       "        [    6,     7,     8,     9,    10,    11],\n",
       "        [   12,    13,    14,    15,    16,    17],\n",
       "        [   18,    19,    20,    21,    22,    23],\n",
       "        [   24,    25,    26,    27,    28,    29],\n",
       "        [   30,    31,    32,    33,    34,    35],\n",
       "        [   36,    37,    38,    39,    40,    41]]),\n",
       " array([[12345,     1,     2,     3,     4,     5],\n",
       "        [    6,     7,     8,     9,    10,    11],\n",
       "        [   12,    13,    14,    15,    16,    17],\n",
       "        [   18,    19,    20,    21,    22,    23],\n",
       "        [   24,    25,    26,    27,    28,    29],\n",
       "        [   30,    31,    32,    33,    34,    35],\n",
       "        [   36,    37,    38,    39,    40,    41]]))"
      ]
     },
     "execution_count": 34,
     "metadata": {},
     "output_type": "execute_result"
    }
   ],
   "source": [
    "#view\n",
    "not_copy_but_view = practice[:] #ada relasi antara turunan dan data aslinya\n",
    "not_copy_but_view[0,0] = 12345\n",
    "practice, not_copy_but_view"
   ]
  },
  {
   "cell_type": "code",
   "execution_count": 30,
   "id": "da60dab1",
   "metadata": {},
   "outputs": [
    {
     "name": "stdout",
     "output_type": "stream",
     "text": [
      "None\n"
     ]
    }
   ],
   "source": [
    "print(practice.base)"
   ]
  },
  {
   "cell_type": "code",
   "execution_count": 31,
   "id": "9d665e55",
   "metadata": {},
   "outputs": [
    {
     "name": "stdout",
     "output_type": "stream",
     "text": [
      "[[12345     1     2     3     4     5]\n",
      " [    6     7     8     9    10    11]\n",
      " [   12    13    14    15    16    17]\n",
      " [   18    19    20    21    22    23]\n",
      " [   24    25    26    27    28    29]\n",
      " [   30    31    32    33    34    35]\n",
      " [   36    37    38    39    40    41]]\n"
     ]
    }
   ],
   "source": [
    "print(not_copy_but_view.base)"
   ]
  },
  {
   "cell_type": "code",
   "execution_count": 36,
   "id": "e32d8e9e",
   "metadata": {},
   "outputs": [
    {
     "data": {
      "text/plain": [
       "(array([[12345,     1,     2,     3,     4,     5],\n",
       "        [    6,     7,     8,     9,    10,    11],\n",
       "        [   12,    13,    14,    15,    16,    17],\n",
       "        [   18,    19,    20,    21,    22,    23],\n",
       "        [   24,    25,    26,    27,    28,    29],\n",
       "        [   30,    31,    32,    33,    34,    35],\n",
       "        [   36,    37,    38,    39,    40,    41]]),\n",
       " array([[12345,     1,     2,     3,     4,     5],\n",
       "        [    6,     7,     8,     9,    10,    11],\n",
       "        [   12,    13,    14,    15,    16,    17],\n",
       "        [   18,    19,    20,    21,    22,    23],\n",
       "        [   24,    25,    26,    27,    28,    29],\n",
       "        [   30,    31,    32,    33,    34,    35],\n",
       "        [   36,    37,    38,    39,    40,    41]]))"
      ]
     },
     "execution_count": 36,
     "metadata": {},
     "output_type": "execute_result"
    }
   ],
   "source": [
    "not_copy2 = practice.view()\n",
    "not_copy2,practice"
   ]
  },
  {
   "cell_type": "code",
   "execution_count": null,
   "id": "7da5a1ae",
   "metadata": {},
   "outputs": [],
   "source": []
  }
 ],
 "metadata": {
  "kernelspec": {
   "display_name": "Python 3 (ipykernel)",
   "language": "python",
   "name": "python3"
  },
  "language_info": {
   "codemirror_mode": {
    "name": "ipython",
    "version": 3
   },
   "file_extension": ".py",
   "mimetype": "text/x-python",
   "name": "python",
   "nbconvert_exporter": "python",
   "pygments_lexer": "ipython3",
   "version": "3.9.12"
  },
  "toc": {
   "base_numbering": 1,
   "nav_menu": {},
   "number_sections": true,
   "sideBar": true,
   "skip_h1_title": false,
   "title_cell": "Table of Contents",
   "title_sidebar": "Contents",
   "toc_cell": false,
   "toc_position": {
    "height": "calc(100% - 180px)",
    "left": "10px",
    "top": "150px",
    "width": "181.597px"
   },
   "toc_section_display": true,
   "toc_window_display": true
  },
  "varInspector": {
   "cols": {
    "lenName": 16,
    "lenType": 16,
    "lenVar": 40
   },
   "kernels_config": {
    "python": {
     "delete_cmd_postfix": "",
     "delete_cmd_prefix": "del ",
     "library": "var_list.py",
     "varRefreshCmd": "print(var_dic_list())"
    },
    "r": {
     "delete_cmd_postfix": ") ",
     "delete_cmd_prefix": "rm(",
     "library": "var_list.r",
     "varRefreshCmd": "cat(var_dic_list()) "
    }
   },
   "types_to_exclude": [
    "module",
    "function",
    "builtin_function_or_method",
    "instance",
    "_Feature"
   ],
   "window_display": false
  }
 },
 "nbformat": 4,
 "nbformat_minor": 5
}
