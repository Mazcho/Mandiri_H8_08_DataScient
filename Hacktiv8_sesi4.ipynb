{
 "cells": [
  {
   "cell_type": "markdown",
   "id": "278ce790",
   "metadata": {},
   "source": [
    "# Cara menimpor Numpy "
   ]
  },
  {
   "cell_type": "code",
   "execution_count": null,
   "id": "c85822e8",
   "metadata": {},
   "outputs": [],
   "source": [
    "import numpy as np"
   ]
  },
  {
   "cell_type": "code",
   "execution_count": 2,
   "id": "053abb49",
   "metadata": {},
   "outputs": [
    {
     "data": {
      "text/plain": [
       "array([1, 2, 3])"
      ]
     },
     "execution_count": 2,
     "metadata": {},
     "output_type": "execute_result"
    }
   ],
   "source": [
    "a = np.array([1,2,3])\n",
    "a"
   ]
  },
  {
   "cell_type": "markdown",
   "id": "c1097b67",
   "metadata": {},
   "source": [
    "# Implementasi NumPy"
   ]
  },
  {
   "cell_type": "markdown",
   "id": "ae679fd9",
   "metadata": {},
   "source": [
    "## Metode pada numpy"
   ]
  },
  {
   "cell_type": "code",
   "execution_count": 4,
   "id": "41134aec",
   "metadata": {},
   "outputs": [
    {
     "data": {
      "text/plain": [
       "array([0., 0., 0., 0., 0., 0.])"
      ]
     },
     "execution_count": 4,
     "metadata": {},
     "output_type": "execute_result"
    }
   ],
   "source": [
    "# np.zeros() digunakan untyuk memuat nilai  0\n",
    "angka0 = np.zeros(6)\n",
    "angka0"
   ]
  },
  {
   "cell_type": "code",
   "execution_count": 6,
   "id": "c7c662fb",
   "metadata": {},
   "outputs": [
    {
     "data": {
      "text/plain": [
       "array([1., 1., 1., 1., 1., 1.])"
      ]
     },
     "execution_count": 6,
     "metadata": {},
     "output_type": "execute_result"
    }
   ],
   "source": [
    "## np.ones() digunakan untuk mengisi array dengan nilai 1\n",
    "angka1 = np.ones(6)\n",
    "angka1"
   ]
  },
  {
   "cell_type": "code",
   "execution_count": 8,
   "id": "97cb4931",
   "metadata": {},
   "outputs": [
    {
     "data": {
      "text/plain": [
       "array([[1., 1.],\n",
       "       [1., 1.],\n",
       "       [1., 1.]])"
      ]
     },
     "execution_count": 8,
     "metadata": {},
     "output_type": "execute_result"
    }
   ],
   "source": [
    "## np.empty digunakan untuk membuat array dengan bentuk tertentu dan isi bebas.\n",
    "empty = np.empty(6)\n",
    "empty\n",
    "a = np.empty([3,2])\n",
    "a"
   ]
  },
  {
   "cell_type": "code",
   "execution_count": 11,
   "id": "3785fe4b",
   "metadata": {},
   "outputs": [
    {
     "data": {
      "text/plain": [
       "array([0, 2, 4, 6, 8])"
      ]
     },
     "execution_count": 11,
     "metadata": {},
     "output_type": "execute_result"
    }
   ],
   "source": [
    "## np.arrange digunakan untuk mengurutkan bilangan np.arrange[start,stop,step]\n",
    "c = np.arange(0,4)\n",
    "c\n",
    "d = np.arange(0,10,2)\n",
    "d"
   ]
  },
  {
   "cell_type": "code",
   "execution_count": 13,
   "id": "d914ca1c",
   "metadata": {},
   "outputs": [
    {
     "data": {
      "text/plain": [
       "array([ 2,  7, 12, 17])"
      ]
     },
     "execution_count": 13,
     "metadata": {},
     "output_type": "execute_result"
    }
   ],
   "source": [
    "f = np.arange(2,20,5)\n",
    "f"
   ]
  },
  {
   "cell_type": "markdown",
   "id": "fbb09aa3",
   "metadata": {},
   "source": [
    "## add,remove, and sort"
   ]
  },
  {
   "cell_type": "code",
   "execution_count": 16,
   "id": "7335bb92",
   "metadata": {},
   "outputs": [],
   "source": [
    "arr = np.array([1,2,3,4,5])"
   ]
  },
  {
   "cell_type": "code",
   "execution_count": 19,
   "id": "70610918",
   "metadata": {},
   "outputs": [
    {
     "data": {
      "text/plain": [
       "array([1, 2, 3, 4, 5, 6, 7])"
      ]
     },
     "execution_count": 19,
     "metadata": {},
     "output_type": "execute_result"
    }
   ],
   "source": [
    "np.append(arr,[6,7])\n"
   ]
  },
  {
   "cell_type": "code",
   "execution_count": 24,
   "id": "dd4db7ee",
   "metadata": {},
   "outputs": [
    {
     "data": {
      "text/plain": [
       "array([34, 44, 33, 23,  2,  3,  4])"
      ]
     },
     "execution_count": 24,
     "metadata": {},
     "output_type": "execute_result"
    }
   ],
   "source": [
    "arrku = [34,44,33,23]\n",
    "np.append(arrku,[2,3,4])"
   ]
  },
  {
   "cell_type": "code",
   "execution_count": 25,
   "id": "de23ac4a",
   "metadata": {},
   "outputs": [
    {
     "data": {
      "text/plain": [
       "array([2, 3, 4, 5])"
      ]
     },
     "execution_count": 25,
     "metadata": {},
     "output_type": "execute_result"
    }
   ],
   "source": [
    "np.delete(arr,0)"
   ]
  },
  {
   "cell_type": "code",
   "execution_count": 26,
   "id": "58e8e7da",
   "metadata": {},
   "outputs": [
    {
     "data": {
      "text/plain": [
       "array([44, 33, 23])"
      ]
     },
     "execution_count": 26,
     "metadata": {},
     "output_type": "execute_result"
    }
   ],
   "source": [
    "np.delete(arrku,0)"
   ]
  },
  {
   "cell_type": "code",
   "execution_count": 27,
   "id": "958c0d32",
   "metadata": {},
   "outputs": [
    {
     "data": {
      "text/plain": [
       "array([23, 33, 34, 44])"
      ]
     },
     "execution_count": 27,
     "metadata": {},
     "output_type": "execute_result"
    }
   ],
   "source": [
    "np.sort(arrku)"
   ]
  },
  {
   "cell_type": "markdown",
   "id": "01c3ca34",
   "metadata": {},
   "source": [
    "## Shape and Size "
   ]
  },
  {
   "cell_type": "code",
   "execution_count": 28,
   "id": "b34072c5",
   "metadata": {},
   "outputs": [
    {
     "data": {
      "text/plain": [
       "1"
      ]
     },
     "execution_count": 28,
     "metadata": {},
     "output_type": "execute_result"
    }
   ],
   "source": [
    "#melihat dimensi array dengang (nama rray).ndim\n",
    "arr.ndim"
   ]
  },
  {
   "cell_type": "code",
   "execution_count": 44,
   "id": "48cdfc37",
   "metadata": {},
   "outputs": [
    {
     "data": {
      "text/plain": [
       "array([[[1, 2, 3]],\n",
       "\n",
       "       [[4, 5, 6]],\n",
       "\n",
       "       [[7, 8, 9]]])"
      ]
     },
     "execution_count": 44,
     "metadata": {},
     "output_type": "execute_result"
    }
   ],
   "source": [
    "# ada tbeberapa kurung siku yang perlu diketahui\n",
    "contoh_array = np.array([[[1,2,3]],\n",
    "                        [[4,5,6]],\n",
    "                       [[7,8,9]]])\n",
    "contoh_array"
   ]
  },
  {
   "cell_type": "code",
   "execution_count": 31,
   "id": "2e53f02f",
   "metadata": {},
   "outputs": [
    {
     "data": {
      "text/plain": [
       "3"
      ]
     },
     "execution_count": 31,
     "metadata": {},
     "output_type": "execute_result"
    }
   ],
   "source": [
    "#jumlha dimensi\n",
    "contoh_array.ndim"
   ]
  },
  {
   "cell_type": "code",
   "execution_count": 32,
   "id": "86ba113b",
   "metadata": {},
   "outputs": [
    {
     "data": {
      "text/plain": [
       "9"
      ]
     },
     "execution_count": 32,
     "metadata": {},
     "output_type": "execute_result"
    }
   ],
   "source": [
    "#jumlah data yang terdapat pada array\n",
    "contoh_array.size"
   ]
  },
  {
   "cell_type": "code",
   "execution_count": 33,
   "id": "536b36dd",
   "metadata": {},
   "outputs": [
    {
     "data": {
      "text/plain": [
       "(3, 1, 3)"
      ]
     },
     "execution_count": 33,
     "metadata": {},
     "output_type": "execute_result"
    }
   ],
   "source": [
    "#digunakan untuk mengetahui dimensi dari dataframe atau ukuran baris dan kolomnya.\n",
    "contoh_array.shape"
   ]
  },
  {
   "cell_type": "code",
   "execution_count": 36,
   "id": "5ef469d5",
   "metadata": {},
   "outputs": [
    {
     "name": "stdout",
     "output_type": "stream",
     "text": [
      "2\n",
      "5\n",
      "(1, 5)\n"
     ]
    }
   ],
   "source": [
    "arr_one = np.array([[1,2,3,4,5]])\n",
    "print(arr_one.ndim)\n",
    "print(arr_one.size)\n",
    "print(arr_one.shape) #(baris,kolom)"
   ]
  },
  {
   "cell_type": "markdown",
   "id": "470ae6cb",
   "metadata": {},
   "source": [
    "## Re-Shape"
   ]
  },
  {
   "cell_type": "code",
   "execution_count": 37,
   "id": "3b7d8ecf",
   "metadata": {},
   "outputs": [
    {
     "name": "stdout",
     "output_type": "stream",
     "text": [
      "[0 1 2 3 4 5]\n"
     ]
    }
   ],
   "source": [
    "a = np.arange(6)\n",
    "print(a)"
   ]
  },
  {
   "cell_type": "code",
   "execution_count": 38,
   "id": "05c8e17d",
   "metadata": {},
   "outputs": [
    {
     "data": {
      "text/plain": [
       "array([[0, 1],\n",
       "       [2, 3],\n",
       "       [4, 5]])"
      ]
     },
     "execution_count": 38,
     "metadata": {},
     "output_type": "execute_result"
    }
   ],
   "source": [
    "a.reshape(3,2) #membuat data 3 baris dalam 2 kolom"
   ]
  },
  {
   "cell_type": "code",
   "execution_count": 39,
   "id": "6bab7bf9",
   "metadata": {},
   "outputs": [
    {
     "data": {
      "text/plain": [
       "array([[0],\n",
       "       [1],\n",
       "       [2],\n",
       "       [3],\n",
       "       [4],\n",
       "       [5]])"
      ]
     },
     "execution_count": 39,
     "metadata": {},
     "output_type": "execute_result"
    }
   ],
   "source": [
    "a.reshape(6,1) #membuat data 6 baris dalam 1 kolom"
   ]
  },
  {
   "cell_type": "markdown",
   "id": "71ebae3b",
   "metadata": {},
   "source": [
    "## Convert dari 1d to 2d "
   ]
  },
  {
   "cell_type": "code",
   "execution_count": 42,
   "id": "03406d0b",
   "metadata": {},
   "outputs": [
    {
     "data": {
      "text/plain": [
       "(6,)"
      ]
     },
     "execution_count": 42,
     "metadata": {},
     "output_type": "execute_result"
    }
   ],
   "source": [
    "a = np.array([1,2,3,4,5,6])\n",
    "a.shape"
   ]
  },
  {
   "cell_type": "code",
   "execution_count": 49,
   "id": "a792470b",
   "metadata": {},
   "outputs": [
    {
     "name": "stdout",
     "output_type": "stream",
     "text": [
      "(1, 6)\n",
      "[[1 2 3 4 5 6]]\n"
     ]
    }
   ],
   "source": [
    "a2 = a[np.newaxis]\n",
    "print(a2.shape)\n",
    "print(a2)"
   ]
  },
  {
   "cell_type": "code",
   "execution_count": 51,
   "id": "93ddc5d9",
   "metadata": {},
   "outputs": [
    {
     "name": "stdout",
     "output_type": "stream",
     "text": [
      "(1, 6)\n",
      "[[1 2 3 4 5 6]]\n"
     ]
    }
   ],
   "source": [
    "row_vector = a[np.newaxis, :] #1 kolom 6 baris\n",
    "print(row_vector.shape)\n",
    "print(row_vector)"
   ]
  },
  {
   "cell_type": "code",
   "execution_count": 52,
   "id": "5326c410",
   "metadata": {},
   "outputs": [
    {
     "name": "stdout",
     "output_type": "stream",
     "text": [
      "(6, 1)\n",
      "[[1]\n",
      " [2]\n",
      " [3]\n",
      " [4]\n",
      " [5]\n",
      " [6]]\n"
     ]
    }
   ],
   "source": [
    "col_vector = a[:, np.newaxis] #6 kolom, 1 baris\n",
    "print(col_vector.shape)\n",
    "print(col_vector)\n"
   ]
  },
  {
   "cell_type": "code",
   "execution_count": 54,
   "id": "39fb14d4",
   "metadata": {},
   "outputs": [
    {
     "data": {
      "text/plain": [
       "array([[10, 20, 30, 40]])"
      ]
     },
     "execution_count": 54,
     "metadata": {},
     "output_type": "execute_result"
    }
   ],
   "source": [
    "a3 = np.array([10,20,30,40])\n",
    "newDim = a3[np.newaxis]\n",
    "newDim"
   ]
  },
  {
   "cell_type": "code",
   "execution_count": 57,
   "id": "793430df",
   "metadata": {},
   "outputs": [
    {
     "data": {
      "text/plain": [
       "(1, 4)"
      ]
     },
     "execution_count": 57,
     "metadata": {},
     "output_type": "execute_result"
    }
   ],
   "source": [
    "newDim.shape"
   ]
  },
  {
   "cell_type": "code",
   "execution_count": 66,
   "id": "ac705215",
   "metadata": {
    "scrolled": true
   },
   "outputs": [
    {
     "name": "stdout",
     "output_type": "stream",
     "text": [
      "(4, 1)\n",
      "[[10]\n",
      " [20]\n",
      " [30]\n",
      " [40]]\n"
     ]
    }
   ],
   "source": [
    "newdimkolom = a3[:,np.newaxis]\n",
    "print(newdimkolom.shape)\n",
    "print(newdimkolom)"
   ]
  },
  {
   "cell_type": "markdown",
   "id": "76f9e91b",
   "metadata": {},
   "source": [
    "## Alternated convert"
   ]
  },
  {
   "cell_type": "code",
   "execution_count": 77,
   "id": "6f19402a",
   "metadata": {},
   "outputs": [
    {
     "data": {
      "text/plain": [
       "(6,)"
      ]
     },
     "execution_count": 77,
     "metadata": {},
     "output_type": "execute_result"
    }
   ],
   "source": [
    "arrayku = [1,2,3,4,5,6,7]\n",
    "a.shape"
   ]
  },
  {
   "cell_type": "code",
   "execution_count": 81,
   "id": "b5cd4f02",
   "metadata": {},
   "outputs": [
    {
     "name": "stdout",
     "output_type": "stream",
     "text": [
      "(7, 1)\n",
      "[[1]\n",
      " [2]\n",
      " [3]\n",
      " [4]\n",
      " [5]\n",
      " [6]\n",
      " [7]]\n"
     ]
    }
   ],
   "source": [
    "arrayku2 = np.expand_dims(arrayku, axis = 1) # untuk mengubah dari 1d ke 2d , dengan kolom sama sesuai shape diawal, dan dityambah 1 bari\n",
    "print(arrayku2.shape)\n",
    "print(arrayku2)"
   ]
  },
  {
   "cell_type": "code",
   "execution_count": 79,
   "id": "f9322752",
   "metadata": {},
   "outputs": [
    {
     "name": "stdout",
     "output_type": "stream",
     "text": [
      "(1, 7)\n",
      "[[1 2 3 4 5 6 7]]\n"
     ]
    }
   ],
   "source": [
    "arrayku2 = np.expand_dims(arrayku, axis = 0) #0 itu untuk convert 1d ke 2d, akan tetapi dengan kolom sesuai shape smula, dan bari 1\n",
    "print(arrayku2.shape)\n",
    "print(arrayku2)"
   ]
  },
  {
   "cell_type": "markdown",
   "id": "92b84dad",
   "metadata": {},
   "source": [
    "## Indexing dan Slicing "
   ]
  },
  {
   "cell_type": "code",
   "execution_count": 86,
   "id": "85803924",
   "metadata": {},
   "outputs": [
    {
     "name": "stdout",
     "output_type": "stream",
     "text": [
      "[1 2 3 4 5]\n",
      "1\n",
      "2\n",
      "[1 2]\n",
      "[2 3 4 5]\n",
      "[1 2 3]\n"
     ]
    }
   ],
   "source": [
    "dataku = np.array([1,2,3,4,5])\n",
    "\n",
    "print(dataku)\n",
    "print(dataku[0])\n",
    "print(dataku[1])\n",
    "print(dataku[0:2])\n",
    "print(dataku[1:])\n",
    "print(dataku[:-2])"
   ]
  },
  {
   "cell_type": "code",
   "execution_count": 87,
   "id": "516cb1aa",
   "metadata": {},
   "outputs": [
    {
     "name": "stdout",
     "output_type": "stream",
     "text": [
      "[[ 1  2  3  4]\n",
      " [ 5  6  7  8]\n",
      " [ 9 10 11 12]]\n"
     ]
    }
   ],
   "source": [
    "arraysaya = np.array([[1,2,3,4],\n",
    "                      [5,6,7,8],\n",
    "                      [9,10,11,12]\n",
    "                     ])\n",
    "print(arraysaya)"
   ]
  },
  {
   "cell_type": "code",
   "execution_count": 90,
   "id": "c5c694e2",
   "metadata": {},
   "outputs": [
    {
     "name": "stdout",
     "output_type": "stream",
     "text": [
      "[ 5  6  7  8  9 10 11 12]\n"
     ]
    }
   ],
   "source": [
    "# slicing dengan mudah mecnari dengan syarat\n",
    "print(arraysaya[arraysaya>=5])"
   ]
  },
  {
   "cell_type": "code",
   "execution_count": 93,
   "id": "26b7c130",
   "metadata": {},
   "outputs": [
    {
     "name": "stdout",
     "output_type": "stream",
     "text": [
      "[ 5  6  7  8  9 10 11 12]\n",
      "[ 5  6  7  8  9 10 11 12]\n"
     ]
    }
   ],
   "source": [
    "#alternate cara\n",
    "five_up = (arraysaya>=5)\n",
    "print(arraysaya[five_up])\n",
    "print(arraysaya[arraysaya>=5])"
   ]
  },
  {
   "cell_type": "code",
   "execution_count": 96,
   "id": "cb338cf7",
   "metadata": {},
   "outputs": [
    {
     "name": "stdout",
     "output_type": "stream",
     "text": [
      "[False  True  True  True  True]\n",
      "[2 3 4 5]\n"
     ]
    }
   ],
   "source": [
    "six_up = (dataku >=2)\n",
    "print(six_up)\n",
    "print(dataku[six_up])"
   ]
  },
  {
   "cell_type": "code",
   "execution_count": 98,
   "id": "8f16f218",
   "metadata": {},
   "outputs": [
    {
     "name": "stdout",
     "output_type": "stream",
     "text": [
      "[ 2  4  6  8 10 12]\n"
     ]
    }
   ],
   "source": [
    "angkagenap = arraysaya[arraysaya%2==0]\n",
    "print(angkagenap)"
   ]
  },
  {
   "cell_type": "code",
   "execution_count": 99,
   "id": "4f4acb1d",
   "metadata": {},
   "outputs": [
    {
     "name": "stdout",
     "output_type": "stream",
     "text": [
      "[ 1  3  5  7  9 11]\n"
     ]
    }
   ],
   "source": [
    "angkaganjil = arraysaya[arraysaya%2==1]\n",
    "print(angkaganjil)"
   ]
  },
  {
   "cell_type": "code",
   "execution_count": 100,
   "id": "414b1b60",
   "metadata": {},
   "outputs": [
    {
     "name": "stdout",
     "output_type": "stream",
     "text": [
      "[1 2 3 4]\n"
     ]
    }
   ],
   "source": [
    "less5 = (arraysaya<5)\n",
    "print(arraysaya[less5])"
   ]
  },
  {
   "cell_type": "code",
   "execution_count": 101,
   "id": "ec14736d",
   "metadata": {},
   "outputs": [
    {
     "name": "stdout",
     "output_type": "stream",
     "text": [
      "[1 2 3 4 5 6]\n"
     ]
    }
   ],
   "source": [
    "less7 = (arraysaya<7)\n",
    "print(arraysaya[less7])"
   ]
  },
  {
   "cell_type": "code",
   "execution_count": 102,
   "id": "a733fb95",
   "metadata": {},
   "outputs": [
    {
     "name": "stdout",
     "output_type": "stream",
     "text": [
      "[ 2  4  6  8 10 12]\n"
     ]
    }
   ],
   "source": [
    "angkagenap2 = arraysaya[arraysaya%2==0]\n",
    "print(angkagenap2)"
   ]
  },
  {
   "cell_type": "code",
   "execution_count": 104,
   "id": "842e06a2",
   "metadata": {},
   "outputs": [
    {
     "name": "stdout",
     "output_type": "stream",
     "text": [
      "[6]\n"
     ]
    }
   ],
   "source": [
    "c = a[(a>5) & (a<11)]\n",
    "print(c)"
   ]
  },
  {
   "cell_type": "markdown",
   "id": "be9bb769",
   "metadata": {},
   "source": [
    "## Membuat array dari data yang sudah ada "
   ]
  },
  {
   "cell_type": "code",
   "execution_count": 106,
   "id": "93f3a839",
   "metadata": {},
   "outputs": [
    {
     "name": "stdout",
     "output_type": "stream",
     "text": [
      "[1 2 3 4 5 6]\n",
      "[3 4 5 6]\n"
     ]
    }
   ],
   "source": [
    "c =np.array([1,2,3,4,5,6])\n",
    "\n",
    "d = np.array(c[2:])\n",
    "print (c)\n",
    "print (d)\n"
   ]
  },
  {
   "cell_type": "code",
   "execution_count": 107,
   "id": "58c366a0",
   "metadata": {},
   "outputs": [
    {
     "name": "stdout",
     "output_type": "stream",
     "text": [
      "[3 4]\n"
     ]
    }
   ],
   "source": [
    "e = np.array(d[d<5])\n",
    "print(e)"
   ]
  },
  {
   "cell_type": "code",
   "execution_count": 108,
   "id": "374b457c",
   "metadata": {},
   "outputs": [
    {
     "name": "stdout",
     "output_type": "stream",
     "text": [
      "[[1 1]\n",
      " [2 2]]\n",
      "[[3 3]\n",
      " [4 4]]\n"
     ]
    }
   ],
   "source": [
    "a_1 = np.array([[1,1],\n",
    "               [2,2]\n",
    "               ])\n",
    "a_2 = np.array([[3,3],\n",
    "                [4,4]\n",
    "               ])\n",
    "\n",
    "print(a_1)\n",
    "print(a_2)"
   ]
  },
  {
   "cell_type": "code",
   "execution_count": 109,
   "id": "5a4d33f1",
   "metadata": {},
   "outputs": [
    {
     "data": {
      "text/plain": [
       "array([[1, 1],\n",
       "       [2, 2],\n",
       "       [3, 3],\n",
       "       [4, 4]])"
      ]
     },
     "execution_count": 109,
     "metadata": {},
     "output_type": "execute_result"
    }
   ],
   "source": [
    "np.vstack((a_1,a_2))"
   ]
  },
  {
   "cell_type": "code",
   "execution_count": 110,
   "id": "861e4633",
   "metadata": {},
   "outputs": [
    {
     "data": {
      "text/plain": [
       "array([[1, 1, 3, 3],\n",
       "       [2, 2, 4, 4]])"
      ]
     },
     "execution_count": 110,
     "metadata": {},
     "output_type": "execute_result"
    }
   ],
   "source": [
    "np.hstack((a_1,a_2))"
   ]
  },
  {
   "cell_type": "code",
   "execution_count": 113,
   "id": "9b65d432",
   "metadata": {},
   "outputs": [
    {
     "name": "stdout",
     "output_type": "stream",
     "text": [
      "[[ 1  2  3  4  5  6  7  8  9 10]\n",
      " [11 12 13 14 15 16 17 18 19 20]]\n"
     ]
    }
   ],
   "source": [
    "e = np.array([[1,2,3,4,5,6,7,8,9,10],\n",
    "             [11,12,13,14,15,16,17,18,19,20]\n",
    "             ])\n",
    "print(e)"
   ]
  },
  {
   "cell_type": "code",
   "execution_count": 115,
   "id": "a258522a",
   "metadata": {},
   "outputs": [
    {
     "data": {
      "text/plain": [
       "[array([[ 1,  2,  3,  4,  5],\n",
       "        [11, 12, 13, 14, 15]]),\n",
       " array([[ 6,  7,  8,  9, 10],\n",
       "        [16, 17, 18, 19, 20]])]"
      ]
     },
     "execution_count": 115,
     "metadata": {},
     "output_type": "execute_result"
    }
   ],
   "source": [
    "np.hsplit(e,2)"
   ]
  },
  {
   "cell_type": "code",
   "execution_count": 11,
   "id": "d6653b1e",
   "metadata": {},
   "outputs": [
    {
     "data": {
      "text/plain": [
       "array([[ 1,  2,  3,  4],\n",
       "       [ 5,  6,  7,  8],\n",
       "       [ 9, 10, 11, 12]])"
      ]
     },
     "execution_count": 11,
     "metadata": {},
     "output_type": "execute_result"
    }
   ],
   "source": [
    "a =np.array([[1,2,3,4],[5,6,7,8],[9,10,11,12]])\n",
    "a"
   ]
  },
  {
   "cell_type": "code",
   "execution_count": 12,
   "id": "376a9b98",
   "metadata": {},
   "outputs": [
    {
     "data": {
      "text/plain": [
       "array([[ 1,  2,  3,  4],\n",
       "       [ 5,  6,  7,  8],\n",
       "       [ 9, 10, 11, 12]])"
      ]
     },
     "execution_count": 12,
     "metadata": {},
     "output_type": "execute_result"
    }
   ],
   "source": [
    "b = a.view()\n",
    "b"
   ]
  },
  {
   "cell_type": "code",
   "execution_count": 5,
   "id": "9b580c42",
   "metadata": {},
   "outputs": [
    {
     "data": {
      "text/plain": [
       "array([[ 1,  2,  3,  4],\n",
       "       [ 5,  6,  7,  8],\n",
       "       [ 9, 10, 11, 12]])"
      ]
     },
     "execution_count": 5,
     "metadata": {},
     "output_type": "execute_result"
    }
   ],
   "source": [
    "c = a.copy()\n",
    "c"
   ]
  },
  {
   "cell_type": "markdown",
   "id": "d233b017",
   "metadata": {},
   "source": [
    "## Array Operation"
   ]
  },
  {
   "cell_type": "code",
   "execution_count": 16,
   "id": "f048f2c9",
   "metadata": {},
   "outputs": [
    {
     "name": "stdout",
     "output_type": "stream",
     "text": [
      "ini pertambahan [ 7  9 11 13 15]\n",
      "ini perkalian  [ 6 14 24 36 50]\n",
      "ini pembagian [0.16666667 0.28571429 0.375      0.44444444 0.5       ]\n",
      "ini sum  15\n"
     ]
    }
   ],
   "source": [
    "#operator 1d\n",
    "a = np.array([1,2,3,4,5])\n",
    "b = np.array([6,7,8,9,10])\n",
    "\n",
    "c = a+b\n",
    "d = a*b\n",
    "e = a/b\n",
    "\n",
    "print('ini pertambahan', c)\n",
    "print('ini perkalian ', d)\n",
    "print('ini pembagian', e)\n",
    "print('ini sum ',a.sum())"
   ]
  },
  {
   "cell_type": "code",
   "execution_count": 17,
   "id": "7197dffd",
   "metadata": {},
   "outputs": [
    {
     "data": {
      "text/plain": [
       "array([[1, 2, 3],\n",
       "       [4, 5, 6]])"
      ]
     },
     "execution_count": 17,
     "metadata": {},
     "output_type": "execute_result"
    }
   ],
   "source": [
    "#2d\n",
    "r = np.array([[1,2,3],[4,5,6]])\n",
    "r"
   ]
  },
  {
   "cell_type": "code",
   "execution_count": 21,
   "id": "e52f4927",
   "metadata": {},
   "outputs": [
    {
     "data": {
      "text/plain": [
       "array([5, 7, 9])"
      ]
     },
     "execution_count": 21,
     "metadata": {},
     "output_type": "execute_result"
    }
   ],
   "source": [
    "r.sum(axis=0) #penjumalahan untuk kolom + kolom\n"
   ]
  },
  {
   "cell_type": "code",
   "execution_count": 22,
   "id": "335dc319",
   "metadata": {},
   "outputs": [
    {
     "data": {
      "text/plain": [
       "array([ 6, 15])"
      ]
     },
     "execution_count": 22,
     "metadata": {},
     "output_type": "execute_result"
    }
   ],
   "source": [
    "r.sum(axis=1) #penjumalahan untuk  jadi baris + baris"
   ]
  },
  {
   "cell_type": "code",
   "execution_count": 24,
   "id": "b6c55c8a",
   "metadata": {},
   "outputs": [
    {
     "data": {
      "text/plain": [
       "array([1, 2])"
      ]
     },
     "execution_count": 24,
     "metadata": {},
     "output_type": "execute_result"
    }
   ],
   "source": [
    "data = np.array([1,2])\n",
    "data"
   ]
  },
  {
   "cell_type": "code",
   "execution_count": 25,
   "id": "0fc99c71",
   "metadata": {},
   "outputs": [
    {
     "data": {
      "text/plain": [
       "array([1., 1.])"
      ]
     },
     "execution_count": 25,
     "metadata": {},
     "output_type": "execute_result"
    }
   ],
   "source": [
    "ones  = np.ones(2)\n",
    "ones"
   ]
  },
  {
   "cell_type": "code",
   "execution_count": 26,
   "id": "4ce30a8a",
   "metadata": {},
   "outputs": [
    {
     "data": {
      "text/plain": [
       "array([2., 3.])"
      ]
     },
     "execution_count": 26,
     "metadata": {},
     "output_type": "execute_result"
    }
   ],
   "source": [
    "data + ones"
   ]
  },
  {
   "cell_type": "code",
   "execution_count": 27,
   "id": "01bf1920",
   "metadata": {},
   "outputs": [
    {
     "data": {
      "text/plain": [
       "array([1, 4])"
      ]
     },
     "execution_count": 27,
     "metadata": {},
     "output_type": "execute_result"
    }
   ],
   "source": [
    "data * data"
   ]
  },
  {
   "cell_type": "code",
   "execution_count": 28,
   "id": "8c09a007",
   "metadata": {},
   "outputs": [
    {
     "data": {
      "text/plain": [
       "array([1, 1], dtype=int32)"
      ]
     },
     "execution_count": 28,
     "metadata": {},
     "output_type": "execute_result"
    }
   ],
   "source": [
    "data//data"
   ]
  },
  {
   "cell_type": "markdown",
   "id": "a4bd694b",
   "metadata": {},
   "source": [
    "## Broadcasting "
   ]
  },
  {
   "cell_type": "code",
   "execution_count": 29,
   "id": "c35fc107",
   "metadata": {},
   "outputs": [
    {
     "data": {
      "text/plain": [
       "array([2, 4])"
      ]
     },
     "execution_count": 29,
     "metadata": {},
     "output_type": "execute_result"
    }
   ],
   "source": [
    "data * 2"
   ]
  },
  {
   "cell_type": "code",
   "execution_count": 30,
   "id": "70e6190d",
   "metadata": {},
   "outputs": [
    {
     "name": "stdout",
     "output_type": "stream",
     "text": [
      "[[0.4574894  0.12376852 0.28376126 0.92876237 0.28972818]\n",
      " [0.2321323  0.232456   0.97864835 0.48973923 0.987435  ]\n",
      " [0.123213   0.213234   0.2783681  0.2876213  0.28739128]]\n"
     ]
    }
   ],
   "source": [
    "A = np.array([[0.4574894,0.123768521,0.283761256,0.92876237,0.2897281763],\n",
    "             [0.2321323,0.232456,0.97864835,0.48973923,0.987435],\n",
    "             [0.123213,0.213234,0.2783681,0.2876213,0.28739128]\n",
    "             ])\n",
    "\n",
    "print(A)\n"
   ]
  },
  {
   "cell_type": "code",
   "execution_count": 31,
   "id": "37e94b2b",
   "metadata": {},
   "outputs": [
    {
     "data": {
      "text/plain": [
       "6.193748283299998"
      ]
     },
     "execution_count": 31,
     "metadata": {},
     "output_type": "execute_result"
    }
   ],
   "source": [
    "A.sum()"
   ]
  },
  {
   "cell_type": "code",
   "execution_count": 36,
   "id": "d9fdf7a8",
   "metadata": {},
   "outputs": [
    {
     "data": {
      "text/plain": [
       "0.123213"
      ]
     },
     "execution_count": 36,
     "metadata": {},
     "output_type": "execute_result"
    }
   ],
   "source": [
    "A.min() "
   ]
  },
  {
   "cell_type": "code",
   "execution_count": 37,
   "id": "728676e4",
   "metadata": {},
   "outputs": [
    {
     "data": {
      "text/plain": [
       "array([0.123213  , 0.12376852, 0.2783681 , 0.2876213 , 0.28739128])"
      ]
     },
     "execution_count": 37,
     "metadata": {},
     "output_type": "execute_result"
    }
   ],
   "source": [
    "A.min(axis=0) "
   ]
  },
  {
   "cell_type": "code",
   "execution_count": 41,
   "id": "036963cf",
   "metadata": {},
   "outputs": [
    {
     "data": {
      "text/plain": [
       "array([0.12376852, 0.2321323 , 0.123213  ])"
      ]
     },
     "execution_count": 41,
     "metadata": {},
     "output_type": "execute_result"
    }
   ],
   "source": [
    "A.min(axis=1) "
   ]
  },
  {
   "cell_type": "code",
   "execution_count": 38,
   "id": "f8e26fa1",
   "metadata": {},
   "outputs": [
    {
     "data": {
      "text/plain": [
       "0.987435"
      ]
     },
     "execution_count": 38,
     "metadata": {},
     "output_type": "execute_result"
    }
   ],
   "source": [
    "A.max()"
   ]
  },
  {
   "cell_type": "code",
   "execution_count": 39,
   "id": "1f2d8de9",
   "metadata": {},
   "outputs": [
    {
     "data": {
      "text/plain": [
       "array([0.4574894 , 0.232456  , 0.97864835, 0.92876237, 0.987435  ])"
      ]
     },
     "execution_count": 39,
     "metadata": {},
     "output_type": "execute_result"
    }
   ],
   "source": [
    "A.max(axis=0)"
   ]
  },
  {
   "cell_type": "code",
   "execution_count": 40,
   "id": "a7914b9b",
   "metadata": {},
   "outputs": [
    {
     "data": {
      "text/plain": [
       "array([0.92876237, 0.987435  , 0.2876213 ])"
      ]
     },
     "execution_count": 40,
     "metadata": {},
     "output_type": "execute_result"
    }
   ],
   "source": [
    "A.max(axis=1)"
   ]
  },
  {
   "cell_type": "code",
   "execution_count": 42,
   "id": "c74656dc",
   "metadata": {},
   "outputs": [
    {
     "data": {
      "text/plain": [
       "0.29191109849864555"
      ]
     },
     "execution_count": 42,
     "metadata": {},
     "output_type": "execute_result"
    }
   ],
   "source": [
    "A.std()"
   ]
  },
  {
   "cell_type": "markdown",
   "id": "8f57340c",
   "metadata": {},
   "source": [
    "## Membuat matriks"
   ]
  },
  {
   "cell_type": "code",
   "execution_count": 43,
   "id": "57d8afb3",
   "metadata": {},
   "outputs": [
    {
     "name": "stdout",
     "output_type": "stream",
     "text": [
      "[[1. 1.]\n",
      " [1. 1.]\n",
      " [1. 1.]]\n",
      "[[0. 0.]\n",
      " [0. 0.]\n",
      " [0. 0.]]\n",
      "[[0.10841739 0.09851637]\n",
      " [0.42648778 0.61964482]\n",
      " [0.74371192 0.81509234]]\n"
     ]
    }
   ],
   "source": [
    "#kolom baris\n",
    "print(np.ones((3,2)))\n",
    "print(np.zeros((3,2)))\n",
    "print(np.random.random((3,2)))\n"
   ]
  },
  {
   "cell_type": "code",
   "execution_count": 45,
   "id": "434c3510",
   "metadata": {
    "scrolled": true
   },
   "outputs": [
    {
     "name": "stdout",
     "output_type": "stream",
     "text": [
      "[[1. 1.]\n",
      " [1. 1.]]\n",
      "[[2. 3.]\n",
      " [4. 5.]]\n"
     ]
    }
   ],
   "source": [
    "dataku = np.array([[1,2],\n",
    "                  [3,4]\n",
    "                  ])\n",
    "\n",
    "ones = np.ones([2,2])\n",
    "\n",
    "print(ones)\n",
    "print(dataku + ones)"
   ]
  },
  {
   "cell_type": "code",
   "execution_count": 49,
   "id": "d5c829ad",
   "metadata": {},
   "outputs": [
    {
     "name": "stdout",
     "output_type": "stream",
     "text": [
      "[[1. 1.]]\n",
      "[[1 2]\n",
      " [3 4]]\n",
      "[[2. 3.]\n",
      " [4. 5.]]\n"
     ]
    }
   ],
   "source": [
    "ones_rows = np.ones([1,2])\n",
    "print(ones_rows)\n",
    "print(dataku)\n",
    "print(dataku + ones_rows)"
   ]
  },
  {
   "cell_type": "markdown",
   "id": "b7b5cdae",
   "metadata": {},
   "source": [
    "## Matriks Aritmetik"
   ]
  },
  {
   "cell_type": "code",
   "execution_count": 2,
   "id": "1e43bcd8",
   "metadata": {},
   "outputs": [
    {
     "name": "stdout",
     "output_type": "stream",
     "text": [
      "[[1 2]\n",
      " [2 1]]\n"
     ]
    }
   ],
   "source": [
    "matriks = np.array([[1,2],[2,1]])\n",
    "print(matriks)"
   ]
  },
  {
   "cell_type": "code",
   "execution_count": 6,
   "id": "389651ec",
   "metadata": {},
   "outputs": [
    {
     "data": {
      "text/plain": [
       "array([[1., 1.],\n",
       "       [1., 1.]])"
      ]
     },
     "execution_count": 6,
     "metadata": {},
     "output_type": "execute_result"
    }
   ],
   "source": [
    "ones = np.ones([2,2])\n",
    "ones"
   ]
  },
  {
   "cell_type": "code",
   "execution_count": 7,
   "id": "94e6b46d",
   "metadata": {},
   "outputs": [
    {
     "data": {
      "text/plain": [
       "array([[2., 3.],\n",
       "       [3., 2.]])"
      ]
     },
     "execution_count": 7,
     "metadata": {},
     "output_type": "execute_result"
    }
   ],
   "source": [
    "matriks+ones"
   ]
  },
  {
   "cell_type": "code",
   "execution_count": 12,
   "id": "2b57a875",
   "metadata": {},
   "outputs": [
    {
     "data": {
      "text/plain": [
       "array([[2, 5],\n",
       "       [3, 4]])"
      ]
     },
     "execution_count": 12,
     "metadata": {},
     "output_type": "execute_result"
    }
   ],
   "source": [
    "one_row = np.array([[2,5],[3,4]])\n",
    "one_row"
   ]
  },
  {
   "cell_type": "code",
   "execution_count": 14,
   "id": "b748bd27",
   "metadata": {},
   "outputs": [
    {
     "name": "stdout",
     "output_type": "stream",
     "text": [
      "[[1 2]\n",
      " [3 4]\n",
      " [5 6]]\n"
     ]
    }
   ],
   "source": [
    "data = np.array([[1,2],[3,4],[5,6]])\n",
    "print(data)"
   ]
  },
  {
   "cell_type": "code",
   "execution_count": 16,
   "id": "6c79ba68",
   "metadata": {},
   "outputs": [
    {
     "name": "stdout",
     "output_type": "stream",
     "text": [
      "[1 2]\n",
      "[3 4]\n",
      "[5 6]\n"
     ]
    }
   ],
   "source": [
    "print(data[0])\n",
    "print(data[1])\n",
    "print(data[2])"
   ]
  },
  {
   "cell_type": "code",
   "execution_count": 19,
   "id": "4174e793",
   "metadata": {},
   "outputs": [
    {
     "name": "stdout",
     "output_type": "stream",
     "text": [
      "2\n"
     ]
    }
   ],
   "source": [
    "print(data[0,1])"
   ]
  },
  {
   "cell_type": "code",
   "execution_count": 26,
   "id": "d642d7bb",
   "metadata": {},
   "outputs": [
    {
     "name": "stdout",
     "output_type": "stream",
     "text": [
      "[[1 2 6]\n",
      " [3 4 7]]\n",
      "[[ 2  3]\n",
      " [ 8  9]\n",
      " [11 12]]\n"
     ]
    }
   ],
   "source": [
    "a_1 = np.array([[1,2,6],[3,4,7]])\n",
    "a_2 = np.array([[2,3],[8,9],[11,12]])\n",
    "print(a_1)\n",
    "print(a_2)"
   ]
  },
  {
   "cell_type": "code",
   "execution_count": 27,
   "id": "45fdf6d5",
   "metadata": {},
   "outputs": [
    {
     "data": {
      "text/plain": [
       "array([[ 84,  93],\n",
       "       [115, 129]])"
      ]
     },
     "execution_count": 27,
     "metadata": {},
     "output_type": "execute_result"
    }
   ],
   "source": [
    "np.dot(a_1,a_2)"
   ]
  },
  {
   "cell_type": "markdown",
   "id": "e2819344",
   "metadata": {},
   "source": [
    "## MATRIKS INDEXING"
   ]
  },
  {
   "attachments": {
    "image.png": {
     "image/png": "[encoded data removed]"
    }
   },
   "cell_type": "markdown",
   "id": "0d0c1e76",
   "metadata": {},
   "source": [
    "![image.png](attachment:image.png)"
   ]
  },
  {
   "cell_type": "code",
   "execution_count": 3,
   "id": "57719636",
   "metadata": {},
   "outputs": [],
   "source": [
    "dataku = np.array([[1,2],[3,4],[5,6]])"
   ]
  },
  {
   "cell_type": "code",
   "execution_count": 4,
   "id": "18850383",
   "metadata": {},
   "outputs": [
    {
     "name": "stdout",
     "output_type": "stream",
     "text": [
      "[[1 2]\n",
      " [3 4]\n",
      " [5 6]]\n",
      "[1 2]\n",
      "[3 4]\n",
      "[5 6]\n",
      "2\n",
      "[[3 4]\n",
      " [5 6]]\n",
      "[2 4]\n"
     ]
    }
   ],
   "source": [
    "print(dataku)\n",
    "print(dataku[0])\n",
    "print(dataku[1])\n",
    "print(dataku[2])\n",
    "print(dataku[0,1])\n",
    "print(dataku[1:3])\n",
    "print(dataku[0:2,1])"
   ]
  },
  {
   "cell_type": "code",
   "execution_count": 6,
   "id": "0ffc7011",
   "metadata": {},
   "outputs": [
    {
     "name": "stdout",
     "output_type": "stream",
     "text": [
      "[5 6]\n",
      "[2 4 6]\n"
     ]
    }
   ],
   "source": [
    "print(dataku.max(axis=0))\n",
    "print(dataku.max(axis=1))"
   ]
  },
  {
   "cell_type": "markdown",
   "id": "232d057d",
   "metadata": {},
   "source": [
    "## Transposing dan Reshaping"
   ]
  },
  {
   "cell_type": "code",
   "execution_count": 7,
   "id": "5aa2a01d",
   "metadata": {},
   "outputs": [
    {
     "name": "stdout",
     "output_type": "stream",
     "text": [
      "[[1 2]\n",
      " [3 4]\n",
      " [5 6]]\n"
     ]
    }
   ],
   "source": [
    "print(dataku)"
   ]
  },
  {
   "cell_type": "code",
   "execution_count": 9,
   "id": "df1b9d72",
   "metadata": {},
   "outputs": [
    {
     "name": "stdout",
     "output_type": "stream",
     "text": [
      "[[1 3 5]\n",
      " [2 4 6]]\n"
     ]
    }
   ],
   "source": [
    "print(dataku.T) #untuk rotate matriks"
   ]
  },
  {
   "cell_type": "code",
   "execution_count": 10,
   "id": "ea0dcc4f",
   "metadata": {},
   "outputs": [
    {
     "name": "stdout",
     "output_type": "stream",
     "text": [
      "[[1 2 3 4 5 6]]\n"
     ]
    }
   ],
   "source": [
    "data_colom = np.array([[1,2,3,4,5,6]])\n",
    "print(data_colom)"
   ]
  },
  {
   "cell_type": "code",
   "execution_count": 11,
   "id": "bae05f67",
   "metadata": {},
   "outputs": [
    {
     "data": {
      "text/plain": [
       "array([[1, 2, 3],\n",
       "       [4, 5, 6]])"
      ]
     },
     "execution_count": 11,
     "metadata": {},
     "output_type": "execute_result"
    }
   ],
   "source": [
    "data_colom.reshape(2,3)"
   ]
  },
  {
   "cell_type": "code",
   "execution_count": 12,
   "id": "80689908",
   "metadata": {},
   "outputs": [
    {
     "data": {
      "text/plain": [
       "array([[1, 2],\n",
       "       [3, 4],\n",
       "       [5, 6]])"
      ]
     },
     "execution_count": 12,
     "metadata": {},
     "output_type": "execute_result"
    }
   ],
   "source": [
    "data_colom.reshape(3,2)"
   ]
  },
  {
   "cell_type": "markdown",
   "id": "8a8fa752",
   "metadata": {},
   "source": [
    " ## N-Dimension Array "
   ]
  },
  {
   "cell_type": "code",
   "execution_count": 4,
   "id": "6c0e7628",
   "metadata": {},
   "outputs": [
    {
     "name": "stdout",
     "output_type": "stream",
     "text": [
      "[[[0. 0.]\n",
      "  [0. 0.]\n",
      "  [0. 0.]]\n",
      "\n",
      " [[0. 0.]\n",
      "  [0. 0.]\n",
      "  [0. 0.]]\n",
      "\n",
      " [[0. 0.]\n",
      "  [0. 0.]\n",
      "  [0. 0.]]\n",
      "\n",
      " [[0. 0.]\n",
      "  [0. 0.]\n",
      "  [0. 0.]]]\n"
     ]
    }
   ],
   "source": [
    "print(np.zeros((4,3,2)))"
   ]
  },
  {
   "cell_type": "code",
   "execution_count": 6,
   "id": "5fae2520",
   "metadata": {},
   "outputs": [
    {
     "name": "stdout",
     "output_type": "stream",
     "text": [
      "[[[0.22013649 0.63245111]\n",
      "  [0.85171388 0.09105858]\n",
      "  [0.55873368 0.8085645 ]]\n",
      "\n",
      " [[0.31248715 0.15620262]\n",
      "  [0.20856716 0.67210739]\n",
      "  [0.30167522 0.26233663]]\n",
      "\n",
      " [[0.45153502 0.99170187]\n",
      "  [0.86338371 0.42200779]\n",
      "  [0.75505124 0.50391878]]\n",
      "\n",
      " [[0.84228913 0.64528379]\n",
      "  [0.05681565 0.46125285]\n",
      "  [0.49072103 0.24568772]]]\n"
     ]
    }
   ],
   "source": [
    "print(np.random.random((4,3,2)))"
   ]
  },
  {
   "cell_type": "markdown",
   "id": "52acea8c",
   "metadata": {},
   "source": [
    "## Flatten N-DImensional Array \n",
    "mengubah smua dimensi  menjadi 1d"
   ]
  },
  {
   "cell_type": "code",
   "execution_count": 7,
   "id": "fd2c3216",
   "metadata": {},
   "outputs": [],
   "source": [
    "arrflat = np.array([[1,2,3,4],[5,6,7,8],[9,10,11,12]])"
   ]
  },
  {
   "cell_type": "code",
   "execution_count": 8,
   "id": "c8d2351e",
   "metadata": {},
   "outputs": [
    {
     "name": "stdout",
     "output_type": "stream",
     "text": [
      "[[ 1  2  3  4]\n",
      " [ 5  6  7  8]\n",
      " [ 9 10 11 12]]\n"
     ]
    }
   ],
   "source": [
    "print(arrflat)"
   ]
  },
  {
   "cell_type": "code",
   "execution_count": 9,
   "id": "18a95ea7",
   "metadata": {},
   "outputs": [
    {
     "data": {
      "text/plain": [
       "array([ 1,  2,  3,  4,  5,  6,  7,  8,  9, 10, 11, 12])"
      ]
     },
     "execution_count": 9,
     "metadata": {},
     "output_type": "execute_result"
    }
   ],
   "source": [
    "arrflat.flatten()"
   ]
  },
  {
   "cell_type": "code",
   "execution_count": 14,
   "id": "3116503b",
   "metadata": {},
   "outputs": [
    {
     "name": "stdout",
     "output_type": "stream",
     "text": [
      "20.0\n"
     ]
    }
   ],
   "source": [
    "n=5\n",
    "observed = 10\n",
    "prediction=20\n",
    "error =(1/n)* np.sum(np.square(observed - prediction))\n",
    "print(error)\n",
    "# rumus regresi"
   ]
  },
  {
   "cell_type": "code",
   "execution_count": null,
   "id": "44be60cc",
   "metadata": {},
   "outputs": [],
   "source": []
  }
 ],
 "metadata": {
  "kernelspec": {
   "display_name": "Python 3 (ipykernel)",
   "language": "python",
   "name": "python3"
  },
  "language_info": {
   "codemirror_mode": {
    "name": "ipython",
    "version": 3
   },
   "file_extension": ".py",
   "mimetype": "text/x-python",
   "name": "python",
   "nbconvert_exporter": "python",
   "pygments_lexer": "ipython3",
   "version": "3.9.12"
  },
  "toc": {
   "base_numbering": 1,
   "nav_menu": {},
   "number_sections": true,
   "sideBar": true,
   "skip_h1_title": false,
   "title_cell": "Table of Contents",
   "title_sidebar": "Contents",
   "toc_cell": false,
   "toc_position": {
    "height": "calc(100% - 180px)",
    "left": "10px",
    "top": "150px",
    "width": "247.431px"
   },
   "toc_section_display": true,
   "toc_window_display": true
  },
  "varInspector": {
   "cols": {
    "lenName": 16,
    "lenType": 16,
    "lenVar": 40
   },
   "kernels_config": {
    "python": {
     "delete_cmd_postfix": "",
     "delete_cmd_prefix": "del ",
     "library": "var_list.py",
     "varRefreshCmd": "print(var_dic_list())"
    },
    "r": {
     "delete_cmd_postfix": ") ",
     "delete_cmd_prefix": "rm(",
     "library": "var_list.r",
     "varRefreshCmd": "cat(var_dic_list()) "
    }
   },
   "types_to_exclude": [
    "module",
    "function",
    "builtin_function_or_method",
    "instance",
    "_Feature"
   ],
   "window_display": false
  }
 },
 "nbformat": 4,
 "nbformat_minor": 5
}
