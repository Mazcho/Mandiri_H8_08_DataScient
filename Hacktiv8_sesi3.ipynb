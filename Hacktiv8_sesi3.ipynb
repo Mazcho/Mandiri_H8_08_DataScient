{
 "cells": [
  {
   "cell_type": "code",
   "execution_count": 73,
   "id": "8f6c187d",
   "metadata": {},
   "outputs": [
    {
     "name": "stdout",
     "output_type": "stream",
     "text": [
      "12\n"
     ]
    }
   ],
   "source": [
    "def my_func(p,l):\n",
    "    \"Function untuk menghitung luas\"\n",
    "    print(p*l)\n",
    "\n",
    "my_func(3,4)"
   ]
  },
  {
   "cell_type": "code",
   "execution_count": 74,
   "id": "b4996b2c",
   "metadata": {},
   "outputs": [
    {
     "data": {
      "text/plain": [
       "6"
      ]
     },
     "execution_count": 74,
     "metadata": {},
     "output_type": "execute_result"
    }
   ],
   "source": [
    "def pertambahan(a,b):\n",
    "    \"Func untuk pertambahan\"\n",
    "    return a+b\n",
    "    \n",
    "pertambahan(3,3)"
   ]
  },
  {
   "cell_type": "code",
   "execution_count": 75,
   "id": "872e202b",
   "metadata": {},
   "outputs": [],
   "source": [
    "def printme(str):\n",
    "    \"This print a passed string into this function\"\n",
    "    return"
   ]
  },
  {
   "cell_type": "code",
   "execution_count": 76,
   "id": "b4940037",
   "metadata": {},
   "outputs": [
    {
     "data": {
      "text/plain": [
       "'Hello'"
      ]
     },
     "execution_count": 76,
     "metadata": {},
     "output_type": "execute_result"
    }
   ],
   "source": [
    "str(\"Hello\")"
   ]
  },
  {
   "cell_type": "code",
   "execution_count": 77,
   "id": "eb302811",
   "metadata": {},
   "outputs": [
    {
     "data": {
      "text/plain": [
       "16"
      ]
     },
     "execution_count": 77,
     "metadata": {},
     "output_type": "execute_result"
    }
   ],
   "source": [
    "def perkalian_angka(b,c):\n",
    "    kali = b*c\n",
    "    return kali\n",
    "# hasil dari perkalian direturn ( atau disimpan pada variabel kali)\n",
    "# maka hasilnya seperti ini\n",
    "perkalian_angka(4,4)\n"
   ]
  },
  {
   "cell_type": "code",
   "execution_count": 78,
   "id": "650be92c",
   "metadata": {},
   "outputs": [
    {
     "data": {
      "text/plain": [
       "4"
      ]
     },
     "execution_count": 78,
     "metadata": {},
     "output_type": "execute_result"
    }
   ],
   "source": [
    "#akan tetapi jika ingin disimpan divariable lain\n",
    "z=perkalian_angka(2,2)\n",
    "z"
   ]
  },
  {
   "cell_type": "code",
   "execution_count": 79,
   "id": "c0e3e958",
   "metadata": {},
   "outputs": [],
   "source": [
    "def pembagian_angka(b,c):\n",
    "    bagi = b//c\n",
    "    return bagi"
   ]
  },
  {
   "cell_type": "code",
   "execution_count": 80,
   "id": "cdd6f844",
   "metadata": {},
   "outputs": [
    {
     "name": "stdout",
     "output_type": "stream",
     "text": [
      "8\n",
      "2\n"
     ]
    }
   ],
   "source": [
    "# ini jika menggunakan variable luar kedalam func yang sudah pake return\n",
    "a = 4\n",
    "b = 2\n",
    "print(perkalian_angka(a,b))\n",
    "print(pembagian_angka(a,b))"
   ]
  },
  {
   "cell_type": "code",
   "execution_count": 81,
   "id": "64605df7",
   "metadata": {},
   "outputs": [
    {
     "name": "stdout",
     "output_type": "stream",
     "text": [
      "10\n"
     ]
    }
   ],
   "source": [
    "#jika disimpan dalam variable lain lagi\n",
    "# dan menggunakan func lain\n",
    "x = perkalian_angka(a,b)\n",
    "y = pembagian_angka(a,b)\n",
    "     \n",
    "print(pertambahan(x,y))"
   ]
  },
  {
   "cell_type": "code",
   "execution_count": 82,
   "id": "66b7d981",
   "metadata": {},
   "outputs": [],
   "source": [
    "def hitungan_luas_segitiga(p,l,t):\n",
    "    luas = p*l*t//2\n",
    "    return luas"
   ]
  },
  {
   "cell_type": "code",
   "execution_count": 83,
   "id": "8bf634d8",
   "metadata": {},
   "outputs": [
    {
     "name": "stdout",
     "output_type": "stream",
     "text": [
      "16\n"
     ]
    }
   ],
   "source": [
    "p = 2\n",
    "l = 4\n",
    "t = 4\n",
    "\n",
    "a = hitungan_luas_segitiga(p,l,t)\n",
    "print(a)"
   ]
  },
  {
   "cell_type": "code",
   "execution_count": 84,
   "id": "5a543b89",
   "metadata": {},
   "outputs": [
    {
     "name": "stdout",
     "output_type": "stream",
     "text": [
      " Isinya jadi  [5, 6, 7, 8, [1, 2, 3, 4]]\n",
      "Listnya skrg menjadi  <function ganti_nama at 0x000001F5CCF38940>\n"
     ]
    }
   ],
   "source": [
    "def ganti_nama(mylist):\n",
    "    \"ini akan mengganti nama pada list di funsgi ini\"\n",
    "    mylist.append([1,2,3,4]);\n",
    "    print(\" Isinya jadi \",mylist)\n",
    "    return\n",
    "\n",
    "listgw=[5,6,7,8]\n",
    "ganti_nama(listgw);\n",
    "print(\"Listnya skrg menjadi \", ganti_nama)"
   ]
  },
  {
   "cell_type": "code",
   "execution_count": 85,
   "id": "73d674c2",
   "metadata": {},
   "outputs": [
    {
     "name": "stdout",
     "output_type": "stream",
     "text": [
      " Masukan Senjata Barumu : 2\n",
      "['vandal', 'ghost', '2']\n",
      " Masukan Senjata yang akan diganti  : 2\n",
      " Masukan Senjata yang akan dimasukan: 2\n",
      "Berhasil diubah\n",
      "['vandal', 'ghost', '2']\n"
     ]
    }
   ],
   "source": [
    "def add_weapon(list_weapon,new_weapon):\n",
    "    list_weapon.append(new_weapon);\n",
    "    print(list_weapon)\n",
    "def update_weapon(list_weapon,update_weapon,change_weapon):\n",
    "    list_weapon[change_weapon]=ganti_weapon\n",
    "    print(\"Berhasil diubah\")\n",
    "\n",
    "list_weapon = [\"vandal\",\"ghost\"]\n",
    "new_weapon = str(input(\" Masukan Senjata Barumu : \"))\n",
    "add_weapon(list_weapon,new_weapon)\n",
    "\n",
    "change_weapon = int(input(\" Masukan Senjata yang akan diganti  : \"))\n",
    "ganti_weapon = str(input(\" Masukan Senjata yang akan dimasukan: \"))\n",
    "update_weapon(list_weapon,update_weapon,change_weapon)\n",
    "print(list_weapon)"
   ]
  },
  {
   "cell_type": "code",
   "execution_count": 86,
   "id": "6466cadd",
   "metadata": {},
   "outputs": [
    {
     "name": "stdout",
     "output_type": "stream",
     "text": [
      "Outputnya adalah : \n",
      "30\n",
      "Outputnya adalah : \n",
      "1\n",
      "2\n",
      "3\n",
      "4\n",
      "Lesgo\n"
     ]
    }
   ],
   "source": [
    "def printinfo(arg1,*vartupel):\n",
    "    print(\"Outputnya adalah : \")\n",
    "    print(arg1)\n",
    "    for var in vartupel:\n",
    "        print(var)\n",
    "    return;\n",
    "\n",
    "printinfo(30)\n",
    "printinfo(1,2,3,4,\"Lesgo\")"
   ]
  },
  {
   "cell_type": "code",
   "execution_count": 87,
   "id": "96b8f7ba",
   "metadata": {},
   "outputs": [
    {
     "name": "stdout",
     "output_type": "stream",
     "text": [
      "Hasil di dalam :  50\n",
      "Hasil luarnya 70\n"
     ]
    }
   ],
   "source": [
    "def sum(angka1,angka2):\n",
    "    total = angka1+angka2\n",
    "    total2 = total + angka1\n",
    "    print(\"Hasil di dalam : \",total)\n",
    "    return total2\n",
    "angka1 = 20\n",
    "angka2 = 30\n",
    "print(\"Hasil luarnya\",sum(angka1,angka2))"
   ]
  },
  {
   "cell_type": "code",
   "execution_count": 88,
   "id": "aa5b8985",
   "metadata": {},
   "outputs": [
    {
     "name": "stdout",
     "output_type": "stream",
     "text": [
      "Hasil total beli   7\n",
      "Total beli bulan  9\n"
     ]
    }
   ],
   "source": [
    "def totalpembelian (beli1,beli2):\n",
    "    totalbeli =beli1+beli2\n",
    "    belibulan= totalbeli+ beli2\n",
    "    print(\"Hasil total beli  \", totalbeli)\n",
    "    return belibulan\n",
    "\n",
    "print(\"Total beli bulan \",totalpembelian(5,2))"
   ]
  },
  {
   "cell_type": "markdown",
   "id": "56ccac17",
   "metadata": {},
   "source": [
    "## GLOBAL VS LOCAL VAR"
   ]
  },
  {
   "cell_type": "code",
   "execution_count": 89,
   "id": "14d84f7b",
   "metadata": {},
   "outputs": [
    {
     "name": "stdout",
     "output_type": "stream",
     "text": [
      "Hasil dalam funct benefit adalah  300000\n",
      "Benefit luar sebesar  0\n"
     ]
    }
   ],
   "source": [
    "#variabel global variabel  yang diluar funct\n",
    "#var lokak adalah variabel scope yang dimana variabeltsb hanya untuk funct tsbt\n",
    "\n",
    "benefit = 0\n",
    "\n",
    "def totalbenefit(ben1,ben2):\n",
    "    benefit=ben1+ben2\n",
    "    print(\"Hasil dalam funct benefit adalah \",benefit)\n",
    "    return benefit\n",
    "\n",
    "totalbenefit(100000,200000)\n",
    "print(\"Benefit luar sebesar \",benefit)"
   ]
  },
  {
   "cell_type": "code",
   "execution_count": 90,
   "id": "e47dfafb",
   "metadata": {},
   "outputs": [
    {
     "data": {
      "text/plain": [
       "50"
      ]
     },
     "execution_count": 90,
     "metadata": {},
     "output_type": "execute_result"
    }
   ],
   "source": [
    "jumlahkucing = 20\n",
    "jumlahanjing = 40\n",
    "def jumlahHewan():\n",
    "        jumlahAnjing=30\n",
    "        return jumlahkucing+jumlahAnjing\n",
    "    \n",
    "def jumlahKelinci():\n",
    "    return jumlahkucing+jumlahKelinci\n",
    "\n",
    "jumlahHewan()\n"
   ]
  },
  {
   "cell_type": "markdown",
   "id": "06853e52",
   "metadata": {},
   "source": [
    "## MODULES"
   ]
  },
  {
   "cell_type": "code",
   "execution_count": 91,
   "id": "b2d24e71",
   "metadata": {},
   "outputs": [],
   "source": [
    "s = \"Hacktiv8-PTP Python For Data Scient\"\n",
    "a = [100,200,300]\n",
    "\n",
    "def foo(arg):\n",
    "    print(f'arg = {arg}')\n",
    "\n",
    "class Foo:\n",
    "    pass"
   ]
  },
  {
   "cell_type": "code",
   "execution_count": 93,
   "id": "da6a9ebe",
   "metadata": {},
   "outputs": [
    {
     "data": {
      "text/plain": [
       "['Foo',\n",
       " 'In',\n",
       " 'Out',\n",
       " '_',\n",
       " '_11',\n",
       " '_12',\n",
       " '_18',\n",
       " '_21',\n",
       " '_22',\n",
       " '_24',\n",
       " '_25',\n",
       " '_26',\n",
       " '_27',\n",
       " '_6',\n",
       " '_67',\n",
       " '_69',\n",
       " '_70',\n",
       " '_71',\n",
       " '_72',\n",
       " '_74',\n",
       " '_76',\n",
       " '_77',\n",
       " '_78',\n",
       " '_9',\n",
       " '_90',\n",
       " '__',\n",
       " '___',\n",
       " '__builtin__',\n",
       " '__builtins__',\n",
       " '__doc__',\n",
       " '__loader__',\n",
       " '__name__',\n",
       " '__package__',\n",
       " '__spec__',\n",
       " '_dh',\n",
       " '_i',\n",
       " '_i1',\n",
       " '_i10',\n",
       " '_i11',\n",
       " '_i12',\n",
       " '_i13',\n",
       " '_i14',\n",
       " '_i15',\n",
       " '_i16',\n",
       " '_i17',\n",
       " '_i18',\n",
       " '_i19',\n",
       " '_i2',\n",
       " '_i20',\n",
       " '_i21',\n",
       " '_i22',\n",
       " '_i23',\n",
       " '_i24',\n",
       " '_i25',\n",
       " '_i26',\n",
       " '_i27',\n",
       " '_i28',\n",
       " '_i29',\n",
       " '_i3',\n",
       " '_i30',\n",
       " '_i31',\n",
       " '_i32',\n",
       " '_i33',\n",
       " '_i34',\n",
       " '_i35',\n",
       " '_i36',\n",
       " '_i37',\n",
       " '_i38',\n",
       " '_i39',\n",
       " '_i4',\n",
       " '_i40',\n",
       " '_i41',\n",
       " '_i42',\n",
       " '_i43',\n",
       " '_i44',\n",
       " '_i45',\n",
       " '_i46',\n",
       " '_i47',\n",
       " '_i48',\n",
       " '_i49',\n",
       " '_i5',\n",
       " '_i50',\n",
       " '_i51',\n",
       " '_i52',\n",
       " '_i53',\n",
       " '_i54',\n",
       " '_i55',\n",
       " '_i56',\n",
       " '_i57',\n",
       " '_i58',\n",
       " '_i59',\n",
       " '_i6',\n",
       " '_i60',\n",
       " '_i61',\n",
       " '_i62',\n",
       " '_i63',\n",
       " '_i64',\n",
       " '_i65',\n",
       " '_i66',\n",
       " '_i67',\n",
       " '_i68',\n",
       " '_i69',\n",
       " '_i7',\n",
       " '_i70',\n",
       " '_i71',\n",
       " '_i72',\n",
       " '_i73',\n",
       " '_i74',\n",
       " '_i75',\n",
       " '_i76',\n",
       " '_i77',\n",
       " '_i78',\n",
       " '_i79',\n",
       " '_i8',\n",
       " '_i80',\n",
       " '_i81',\n",
       " '_i82',\n",
       " '_i83',\n",
       " '_i84',\n",
       " '_i85',\n",
       " '_i86',\n",
       " '_i87',\n",
       " '_i88',\n",
       " '_i89',\n",
       " '_i9',\n",
       " '_i90',\n",
       " '_i91',\n",
       " '_i92',\n",
       " '_i93',\n",
       " '_ih',\n",
       " '_ii',\n",
       " '_iii',\n",
       " '_oh',\n",
       " 'a',\n",
       " 'add_weapon',\n",
       " 'angka1',\n",
       " 'angka2',\n",
       " 'b',\n",
       " 'benefit',\n",
       " 'change_weapon',\n",
       " 'exit',\n",
       " 'foo',\n",
       " 'ganti_nama',\n",
       " 'ganti_weapon',\n",
       " 'get_ipython',\n",
       " 'hitungan_luas_segitiga',\n",
       " 'jumlahHewan',\n",
       " 'jumlahKelinci',\n",
       " 'jumlahanjing',\n",
       " 'jumlahkucing',\n",
       " 'l',\n",
       " 'list_weapon',\n",
       " 'listgw',\n",
       " 'my_func',\n",
       " 'new_weapon',\n",
       " 'p',\n",
       " 'pembagian_angka',\n",
       " 'perkalian_angka',\n",
       " 'pertambahan',\n",
       " 'printinfo',\n",
       " 'printme',\n",
       " 'quit',\n",
       " 's',\n",
       " 'sum',\n",
       " 't',\n",
       " 'totalbenefit',\n",
       " 'totalpembelian',\n",
       " 'update_weapon',\n",
       " 'x',\n",
       " 'y',\n",
       " 'z']"
      ]
     },
     "execution_count": 93,
     "metadata": {},
     "output_type": "execute_result"
    }
   ],
   "source": [
    "dir()"
   ]
  },
  {
   "cell_type": "code",
   "execution_count": 2,
   "id": "33c3a228",
   "metadata": {},
   "outputs": [
    {
     "name": "stdout",
     "output_type": "stream",
     "text": [
      "['__add__', '__class__', '__class_getitem__', '__contains__', '__delattr__', '__delitem__', '__dir__', '__doc__', '__eq__', '__format__', '__ge__', '__getattribute__', '__getitem__', '__gt__', '__hash__', '__iadd__', '__imul__', '__init__', '__init_subclass__', '__iter__', '__le__', '__len__', '__lt__', '__mul__', '__ne__', '__new__', '__reduce__', '__reduce_ex__', '__repr__', '__reversed__', '__rmul__', '__setattr__', '__setitem__', '__sizeof__', '__str__', '__subclasshook__', 'append', 'clear', 'copy', 'count', 'extend', 'index', 'insert', 'pop', 'remove', 'reverse', 'sort'] \n",
      "\n"
     ]
    }
   ],
   "source": [
    "angka =[1,2,3]\n",
    "print(dir(angka),'\\n')"
   ]
  },
  {
   "cell_type": "code",
   "execution_count": null,
   "id": "01a8f2f6",
   "metadata": {},
   "outputs": [],
   "source": []
  }
 ],
 "metadata": {
  "kernelspec": {
   "display_name": "Python 3 (ipykernel)",
   "language": "python",
   "name": "python3"
  },
  "language_info": {
   "codemirror_mode": {
    "name": "ipython",
    "version": 3
   },
   "file_extension": ".py",
   "mimetype": "text/x-python",
   "name": "python",
   "nbconvert_exporter": "python",
   "pygments_lexer": "ipython3",
   "version": "3.9.12"
  }
 },
 "nbformat": 4,
 "nbformat_minor": 5
}
